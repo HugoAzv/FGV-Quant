{
 "cells": [
  {
   "cell_type": "markdown",
   "id": "76f40be5-939a-42e1-9ea8-39c7c1f4e180",
   "metadata": {},
   "source": [
    "# Estimating the stock beta via python"
   ]
  },
  {
   "cell_type": "code",
   "execution_count": 7,
   "id": "f7f4eb3c-942b-4192-8fee-d24e1d59f9d8",
   "metadata": {},
   "outputs": [],
   "source": [
    "import numpy as np\n",
    "import pandas as pd\n",
    "import seaborn as sns\n",
    "import matplotlib.pyplot as plt\n",
    "\n",
    "import pandas_datareader.data as web\n",
    "import datetime as dt\n",
    "import statsmodels.api as sm\n",
    "\n",
    "sns.set()\n",
    "plt.style.use('dark_background')"
   ]
  },
  {
   "cell_type": "code",
   "execution_count": 8,
   "id": "76245014-dffc-43c7-9959-608fce8f135c",
   "metadata": {},
   "outputs": [],
   "source": [
    "end = dt.date(2020,6,30)\n",
    "start = dt.date(end.year - 5, end.month, end.day)\n",
    "funds = ['^FDGRX'] # Fidelity Growth Company (FDGRX)"
   ]
  },
  {
   "cell_type": "code",
   "execution_count": 9,
   "id": "456da438-3357-4f57-8c67-b777a064426d",
   "metadata": {},
   "outputs": [
    {
     "name": "stderr",
     "output_type": "stream",
     "text": [
      "c:\\users\\hugo\\appdata\\local\\programs\\python\\python37\\lib\\site-packages\\pandas_datareader\\base.py:272: SymbolWarning: Failed to read symbol: '^FDGRX', replacing with NaN.\n",
      "  warnings.warn(msg.format(sym), SymbolWarning)\n"
     ]
    },
    {
     "ename": "RemoteDataError",
     "evalue": "No data fetched using 'YahooDailyReader'",
     "output_type": "error",
     "traceback": [
      "\u001b[1;31m---------------------------------------------------------------------------\u001b[0m",
      "\u001b[1;31mRemoteDataError\u001b[0m                           Traceback (most recent call last)",
      "\u001b[1;32m<ipython-input-9-41f3d9ae9f6e>\u001b[0m in \u001b[0;36m<module>\u001b[1;34m\u001b[0m\n\u001b[1;32m----> 1\u001b[1;33m \u001b[0mfundsret\u001b[0m \u001b[1;33m=\u001b[0m \u001b[0mweb\u001b[0m\u001b[1;33m.\u001b[0m\u001b[0mDataReader\u001b[0m\u001b[1;33m(\u001b[0m\u001b[0mfunds\u001b[0m\u001b[1;33m,\u001b[0m \u001b[0mdata_source\u001b[0m\u001b[1;33m=\u001b[0m\u001b[1;34m'yahoo'\u001b[0m\u001b[1;33m,\u001b[0m \u001b[0mstart\u001b[0m\u001b[1;33m=\u001b[0m\u001b[0mstart\u001b[0m\u001b[1;33m,\u001b[0m \u001b[0mend\u001b[0m\u001b[1;33m=\u001b[0m\u001b[0mend\u001b[0m\u001b[1;33m)\u001b[0m\u001b[1;33m[\u001b[0m\u001b[1;34m'Adj Close'\u001b[0m\u001b[1;33m]\u001b[0m\u001b[1;33m.\u001b[0m\u001b[0mpct_change\u001b[0m\u001b[1;33m(\u001b[0m\u001b[1;33m)\u001b[0m\u001b[1;33m\u001b[0m\u001b[1;33m\u001b[0m\u001b[0m\n\u001b[0m\u001b[0;32m      2\u001b[0m \u001b[1;31m# fundsret = web.get_data_yahoo(funds,start,end)['Adj Close'].pct_change()\u001b[0m\u001b[1;33m\u001b[0m\u001b[1;33m\u001b[0m\u001b[1;33m\u001b[0m\u001b[0m\n\u001b[0;32m      3\u001b[0m \u001b[0mfundsret\u001b[0m\u001b[1;33m\u001b[0m\u001b[1;33m\u001b[0m\u001b[0m\n",
      "\u001b[1;32mc:\\users\\hugo\\appdata\\local\\programs\\python\\python37\\lib\\site-packages\\pandas\\util\\_decorators.py\u001b[0m in \u001b[0;36mwrapper\u001b[1;34m(*args, **kwargs)\u001b[0m\n\u001b[0;32m    197\u001b[0m                 \u001b[1;32melse\u001b[0m\u001b[1;33m:\u001b[0m\u001b[1;33m\u001b[0m\u001b[1;33m\u001b[0m\u001b[0m\n\u001b[0;32m    198\u001b[0m                     \u001b[0mkwargs\u001b[0m\u001b[1;33m[\u001b[0m\u001b[0mnew_arg_name\u001b[0m\u001b[1;33m]\u001b[0m \u001b[1;33m=\u001b[0m \u001b[0mnew_arg_value\u001b[0m\u001b[1;33m\u001b[0m\u001b[1;33m\u001b[0m\u001b[0m\n\u001b[1;32m--> 199\u001b[1;33m             \u001b[1;32mreturn\u001b[0m \u001b[0mfunc\u001b[0m\u001b[1;33m(\u001b[0m\u001b[1;33m*\u001b[0m\u001b[0margs\u001b[0m\u001b[1;33m,\u001b[0m \u001b[1;33m**\u001b[0m\u001b[0mkwargs\u001b[0m\u001b[1;33m)\u001b[0m\u001b[1;33m\u001b[0m\u001b[1;33m\u001b[0m\u001b[0m\n\u001b[0m\u001b[0;32m    200\u001b[0m \u001b[1;33m\u001b[0m\u001b[0m\n\u001b[0;32m    201\u001b[0m         \u001b[1;32mreturn\u001b[0m \u001b[0mcast\u001b[0m\u001b[1;33m(\u001b[0m\u001b[0mF\u001b[0m\u001b[1;33m,\u001b[0m \u001b[0mwrapper\u001b[0m\u001b[1;33m)\u001b[0m\u001b[1;33m\u001b[0m\u001b[1;33m\u001b[0m\u001b[0m\n",
      "\u001b[1;32mc:\\users\\hugo\\appdata\\local\\programs\\python\\python37\\lib\\site-packages\\pandas_datareader\\data.py\u001b[0m in \u001b[0;36mDataReader\u001b[1;34m(name, data_source, start, end, retry_count, pause, session, api_key)\u001b[0m\n\u001b[0;32m    382\u001b[0m             \u001b[0mretry_count\u001b[0m\u001b[1;33m=\u001b[0m\u001b[0mretry_count\u001b[0m\u001b[1;33m,\u001b[0m\u001b[1;33m\u001b[0m\u001b[1;33m\u001b[0m\u001b[0m\n\u001b[0;32m    383\u001b[0m             \u001b[0mpause\u001b[0m\u001b[1;33m=\u001b[0m\u001b[0mpause\u001b[0m\u001b[1;33m,\u001b[0m\u001b[1;33m\u001b[0m\u001b[1;33m\u001b[0m\u001b[0m\n\u001b[1;32m--> 384\u001b[1;33m             \u001b[0msession\u001b[0m\u001b[1;33m=\u001b[0m\u001b[0msession\u001b[0m\u001b[1;33m,\u001b[0m\u001b[1;33m\u001b[0m\u001b[1;33m\u001b[0m\u001b[0m\n\u001b[0m\u001b[0;32m    385\u001b[0m         ).read()\n\u001b[0;32m    386\u001b[0m \u001b[1;33m\u001b[0m\u001b[0m\n",
      "\u001b[1;32mc:\\users\\hugo\\appdata\\local\\programs\\python\\python37\\lib\\site-packages\\pandas_datareader\\base.py\u001b[0m in \u001b[0;36mread\u001b[1;34m(self)\u001b[0m\n\u001b[0;32m    256\u001b[0m             \u001b[0mdf\u001b[0m \u001b[1;33m=\u001b[0m \u001b[0mself\u001b[0m\u001b[1;33m.\u001b[0m\u001b[0m_dl_mult_symbols\u001b[0m\u001b[1;33m(\u001b[0m\u001b[0mself\u001b[0m\u001b[1;33m.\u001b[0m\u001b[0msymbols\u001b[0m\u001b[1;33m.\u001b[0m\u001b[0mindex\u001b[0m\u001b[1;33m)\u001b[0m\u001b[1;33m\u001b[0m\u001b[1;33m\u001b[0m\u001b[0m\n\u001b[0;32m    257\u001b[0m         \u001b[1;32melse\u001b[0m\u001b[1;33m:\u001b[0m\u001b[1;33m\u001b[0m\u001b[1;33m\u001b[0m\u001b[0m\n\u001b[1;32m--> 258\u001b[1;33m             \u001b[0mdf\u001b[0m \u001b[1;33m=\u001b[0m \u001b[0mself\u001b[0m\u001b[1;33m.\u001b[0m\u001b[0m_dl_mult_symbols\u001b[0m\u001b[1;33m(\u001b[0m\u001b[0mself\u001b[0m\u001b[1;33m.\u001b[0m\u001b[0msymbols\u001b[0m\u001b[1;33m)\u001b[0m\u001b[1;33m\u001b[0m\u001b[1;33m\u001b[0m\u001b[0m\n\u001b[0m\u001b[0;32m    259\u001b[0m         \u001b[1;32mreturn\u001b[0m \u001b[0mdf\u001b[0m\u001b[1;33m\u001b[0m\u001b[1;33m\u001b[0m\u001b[0m\n\u001b[0;32m    260\u001b[0m \u001b[1;33m\u001b[0m\u001b[0m\n",
      "\u001b[1;32mc:\\users\\hugo\\appdata\\local\\programs\\python\\python37\\lib\\site-packages\\pandas_datareader\\base.py\u001b[0m in \u001b[0;36m_dl_mult_symbols\u001b[1;34m(self, symbols)\u001b[0m\n\u001b[0;32m    275\u001b[0m         \u001b[1;32mif\u001b[0m \u001b[0mlen\u001b[0m\u001b[1;33m(\u001b[0m\u001b[0mpassed\u001b[0m\u001b[1;33m)\u001b[0m \u001b[1;33m==\u001b[0m \u001b[1;36m0\u001b[0m\u001b[1;33m:\u001b[0m\u001b[1;33m\u001b[0m\u001b[1;33m\u001b[0m\u001b[0m\n\u001b[0;32m    276\u001b[0m             \u001b[0mmsg\u001b[0m \u001b[1;33m=\u001b[0m \u001b[1;34m\"No data fetched using {0!r}\"\u001b[0m\u001b[1;33m\u001b[0m\u001b[1;33m\u001b[0m\u001b[0m\n\u001b[1;32m--> 277\u001b[1;33m             \u001b[1;32mraise\u001b[0m \u001b[0mRemoteDataError\u001b[0m\u001b[1;33m(\u001b[0m\u001b[0mmsg\u001b[0m\u001b[1;33m.\u001b[0m\u001b[0mformat\u001b[0m\u001b[1;33m(\u001b[0m\u001b[0mself\u001b[0m\u001b[1;33m.\u001b[0m\u001b[0m__class__\u001b[0m\u001b[1;33m.\u001b[0m\u001b[0m__name__\u001b[0m\u001b[1;33m)\u001b[0m\u001b[1;33m)\u001b[0m\u001b[1;33m\u001b[0m\u001b[1;33m\u001b[0m\u001b[0m\n\u001b[0m\u001b[0;32m    278\u001b[0m         \u001b[1;32mtry\u001b[0m\u001b[1;33m:\u001b[0m\u001b[1;33m\u001b[0m\u001b[1;33m\u001b[0m\u001b[0m\n\u001b[0;32m    279\u001b[0m             \u001b[1;32mif\u001b[0m \u001b[0mlen\u001b[0m\u001b[1;33m(\u001b[0m\u001b[0mstocks\u001b[0m\u001b[1;33m)\u001b[0m \u001b[1;33m>\u001b[0m \u001b[1;36m0\u001b[0m \u001b[1;32mand\u001b[0m \u001b[0mlen\u001b[0m\u001b[1;33m(\u001b[0m\u001b[0mfailed\u001b[0m\u001b[1;33m)\u001b[0m \u001b[1;33m>\u001b[0m \u001b[1;36m0\u001b[0m \u001b[1;32mand\u001b[0m \u001b[0mlen\u001b[0m\u001b[1;33m(\u001b[0m\u001b[0mpassed\u001b[0m\u001b[1;33m)\u001b[0m \u001b[1;33m>\u001b[0m \u001b[1;36m0\u001b[0m\u001b[1;33m:\u001b[0m\u001b[1;33m\u001b[0m\u001b[1;33m\u001b[0m\u001b[0m\n",
      "\u001b[1;31mRemoteDataError\u001b[0m: No data fetched using 'YahooDailyReader'"
     ]
    }
   ],
   "source": [
    "fundsret = web.DataReader(funds, data_source='yahoo', start=start, end=end)['Adj Close'].pct_change()\n",
    "# fundsret = web.get_data_yahoo(funds,start,end)['Adj Close'].pct_change()\n",
    "fundsret"
   ]
  },
  {
   "cell_type": "markdown",
   "id": "cef420a7-09aa-4b19-87eb-81c7d9a53626",
   "metadata": {},
   "source": [
    "## Monthly Returns"
   ]
  },
  {
   "cell_type": "code",
   "execution_count": null,
   "id": "0ce89ed7-6a5c-4def-80bf-c2bff2958ab5",
   "metadata": {},
   "outputs": [],
   "source": [
    "monthly_rets = df.resample('M').agg(lambda x: (x+1).prod() - 1)\n",
    "monthly_rets = monthly_rets[1:]\n",
    "monthly_rets.head()"
   ]
  },
  {
   "cell_type": "markdown",
   "id": "c9afd518-adde-4929-bdb2-58c653b47a81",
   "metadata": {},
   "source": [
    "## Bulding the regression model"
   ]
  },
  {
   "cell_type": "code",
   "execution_count": null,
   "id": "7a6cb4c7-dad5-4aba-9a0c-9912195378d1",
   "metadata": {},
   "outputs": [],
   "source": [
    "X = monthly_rets['^GSPC']\n",
    "y = monthly_rets['MSFT']\n",
    "\n",
    "# the intercept is not defined as default\n",
    "X_sm = sm.add_constant(X)"
   ]
  },
  {
   "cell_type": "code",
   "execution_count": null,
   "id": "4171772a-b00e-49cc-a219-1c8d582de19f",
   "metadata": {},
   "outputs": [],
   "source": [
    "X.shape, y.shape"
   ]
  },
  {
   "cell_type": "code",
   "execution_count": null,
   "id": "890b063b-8978-481e-9a2e-ddf47eec4d4d",
   "metadata": {},
   "outputs": [],
   "source": [
    "model = sm.OLS(y, X_sm)\n",
    "results = model.fit()\n",
    "results.summary()"
   ]
  },
  {
   "cell_type": "markdown",
   "id": "066d31b2-c967-4d48-996b-71bd566b7f52",
   "metadata": {},
   "source": [
    "Alfa = coef X const = 0,0191\n",
    "\n",
    "Beta = coef X ^GSPC = 0,7896"
   ]
  },
  {
   "cell_type": "code",
   "execution_count": null,
   "id": "40753c96-8382-49ca-a2ee-4d3b3d503a96",
   "metadata": {},
   "outputs": [],
   "source": [
    "fig, ax = plt.subplots(figsize=(21,9))\n",
    "sns.regplot(x='^GSPC', y='MSFT', data=monthly_rets, ci=95, ax=ax)  #ci is the Confidence Interval\n",
    "plt.show()"
   ]
  },
  {
   "cell_type": "markdown",
   "id": "9ad03d53-3a61-4413-840c-e81cb051f89f",
   "metadata": {},
   "source": [
    "## Taking the risk free rate"
   ]
  },
  {
   "cell_type": "code",
   "execution_count": null,
   "id": "2f5d4de7-3798-42c6-a36c-1799f2b49db4",
   "metadata": {},
   "outputs": [],
   "source": [
    "rf = reader.DataReader('F-F_Research_Data_Factors', 'famafrench',start,end)[0].RF\n",
    "rf = rf[1:-1]\n",
    "rf.head(5)"
   ]
  },
  {
   "cell_type": "code",
   "execution_count": null,
   "id": "58cc0d0b-d79e-4d45-a20f-b7c43f81149c",
   "metadata": {},
   "outputs": [],
   "source": [
    "rf.tail(5), rf.shape"
   ]
  },
  {
   "cell_type": "code",
   "execution_count": null,
   "id": "b31117a9-d6ab-4fe7-96eb-be59d3cf3dd7",
   "metadata": {},
   "outputs": [],
   "source": [
    "# Get the Excess Return\n",
    "\n",
    "monthly_rets['MSFT-rf'], monthly_rets['^GSPC-rf'] = monthly_rets['MSFT'] - rf.values, monthly_rets['^GSPC'] - rf.values\n",
    "monthly_rets.head()"
   ]
  },
  {
   "cell_type": "markdown",
   "id": "709c122b-8dc1-4392-8f21-2f2b95ad582a",
   "metadata": {},
   "source": [
    "## Bulding the regression model again"
   ]
  },
  {
   "cell_type": "code",
   "execution_count": null,
   "id": "6a0b5bb0-736b-41ab-9503-e60094507248",
   "metadata": {},
   "outputs": [],
   "source": [
    "X = monthly_rets['^GSPC-rf']\n",
    "y = monthly_rets['MSFT-rf']"
   ]
  },
  {
   "cell_type": "code",
   "execution_count": null,
   "id": "f0190e90-6129-43c9-9fc8-a5462fae0021",
   "metadata": {},
   "outputs": [],
   "source": [
    "X_sm = sm.add_constant(X)"
   ]
  },
  {
   "cell_type": "code",
   "execution_count": null,
   "id": "17f93f6f-da5f-453c-b704-53ced48a6f19",
   "metadata": {},
   "outputs": [],
   "source": [
    "model = sm.OLS(y,X_sm)"
   ]
  },
  {
   "cell_type": "code",
   "execution_count": null,
   "id": "4c6bd87a-0e62-4b37-896d-f837545523cc",
   "metadata": {},
   "outputs": [],
   "source": [
    "results = model.fit()\n",
    "results.summary()"
   ]
  },
  {
   "cell_type": "code",
   "execution_count": null,
   "id": "b26984ee-7439-48a8-837b-d86c23909816",
   "metadata": {},
   "outputs": [],
   "source": [
    "fig, ax = plt.subplots(figsize=(21,9))\n",
    "sns.regplot(x='^GSPC-rf', y='MSFT-rf', data=monthly_rets, ci=95, ax=ax)  #ci is the Confidence Interval\n",
    "plt.show()"
   ]
  }
 ],
 "metadata": {
  "kernelspec": {
   "display_name": "Python 3",
   "language": "python",
   "name": "python3"
  },
  "language_info": {
   "codemirror_mode": {
    "name": "ipython",
    "version": 3
   },
   "file_extension": ".py",
   "mimetype": "text/x-python",
   "name": "python",
   "nbconvert_exporter": "python",
   "pygments_lexer": "ipython3",
   "version": "3.7.3"
  }
 },
 "nbformat": 4,
 "nbformat_minor": 5
}
