{
 "cells": [
  {
   "cell_type": "markdown",
   "id": "76f40be5-939a-42e1-9ea8-39c7c1f4e180",
   "metadata": {},
   "source": [
    "# Estimating the stock beta via python"
   ]
  },
  {
   "cell_type": "code",
   "execution_count": 2,
   "id": "f7f4eb3c-942b-4192-8fee-d24e1d59f9d8",
   "metadata": {},
   "outputs": [],
   "source": [
    "import numpy as np\n",
    "import pandas as pd\n",
    "import seaborn as sns\n",
    "import matplotlib.pyplot as plt\n",
    "\n",
    "import pandas_datareader.data as reader\n",
    "import datetime as dt\n",
    "import statsmodels.api as sm\n",
    "\n",
    "sns.set()\n",
    "plt.style.use('dark_background')"
   ]
  },
  {
   "cell_type": "code",
   "execution_count": 64,
   "id": "76245014-dffc-43c7-9959-608fce8f135c",
   "metadata": {},
   "outputs": [],
   "source": [
    "end = dt.date(2021,1,1)\n",
    "start = dt.date(end.year - 5, end.month, end.day)\n",
    "Input = ['MSFT', '^GSPC']"
   ]
  },
  {
   "cell_type": "code",
   "execution_count": 65,
   "id": "456da438-3357-4f57-8c67-b777a064426d",
   "metadata": {},
   "outputs": [
    {
     "data": {
      "text/html": [
       "<div>\n",
       "<style scoped>\n",
       "    .dataframe tbody tr th:only-of-type {\n",
       "        vertical-align: middle;\n",
       "    }\n",
       "\n",
       "    .dataframe tbody tr th {\n",
       "        vertical-align: top;\n",
       "    }\n",
       "\n",
       "    .dataframe thead th {\n",
       "        text-align: right;\n",
       "    }\n",
       "</style>\n",
       "<table border=\"1\" class=\"dataframe\">\n",
       "  <thead>\n",
       "    <tr style=\"text-align: right;\">\n",
       "      <th>Symbols</th>\n",
       "      <th>MSFT</th>\n",
       "      <th>^GSPC</th>\n",
       "    </tr>\n",
       "    <tr>\n",
       "      <th>Date</th>\n",
       "      <th></th>\n",
       "      <th></th>\n",
       "    </tr>\n",
       "  </thead>\n",
       "  <tbody>\n",
       "    <tr>\n",
       "      <th>2016-01-04</th>\n",
       "      <td>49.776890</td>\n",
       "      <td>2012.660034</td>\n",
       "    </tr>\n",
       "    <tr>\n",
       "      <th>2016-01-05</th>\n",
       "      <td>50.003983</td>\n",
       "      <td>2016.709961</td>\n",
       "    </tr>\n",
       "    <tr>\n",
       "      <th>2016-01-06</th>\n",
       "      <td>49.095642</td>\n",
       "      <td>1990.260010</td>\n",
       "    </tr>\n",
       "    <tr>\n",
       "      <th>2016-01-07</th>\n",
       "      <td>47.387970</td>\n",
       "      <td>1943.089966</td>\n",
       "    </tr>\n",
       "    <tr>\n",
       "      <th>2016-01-08</th>\n",
       "      <td>47.533310</td>\n",
       "      <td>1922.030029</td>\n",
       "    </tr>\n",
       "    <tr>\n",
       "      <th>...</th>\n",
       "      <td>...</td>\n",
       "      <td>...</td>\n",
       "    </tr>\n",
       "    <tr>\n",
       "      <th>2020-12-24</th>\n",
       "      <td>221.726166</td>\n",
       "      <td>3703.060059</td>\n",
       "    </tr>\n",
       "    <tr>\n",
       "      <th>2020-12-28</th>\n",
       "      <td>223.925995</td>\n",
       "      <td>3735.360107</td>\n",
       "    </tr>\n",
       "    <tr>\n",
       "      <th>2020-12-29</th>\n",
       "      <td>223.119720</td>\n",
       "      <td>3727.040039</td>\n",
       "    </tr>\n",
       "    <tr>\n",
       "      <th>2020-12-30</th>\n",
       "      <td>220.661072</td>\n",
       "      <td>3732.040039</td>\n",
       "    </tr>\n",
       "    <tr>\n",
       "      <th>2020-12-31</th>\n",
       "      <td>221.397675</td>\n",
       "      <td>3756.070068</td>\n",
       "    </tr>\n",
       "  </tbody>\n",
       "</table>\n",
       "<p>1259 rows × 2 columns</p>\n",
       "</div>"
      ],
      "text/plain": [
       "Symbols           MSFT        ^GSPC\n",
       "Date                               \n",
       "2016-01-04   49.776890  2012.660034\n",
       "2016-01-05   50.003983  2016.709961\n",
       "2016-01-06   49.095642  1990.260010\n",
       "2016-01-07   47.387970  1943.089966\n",
       "2016-01-08   47.533310  1922.030029\n",
       "...                ...          ...\n",
       "2020-12-24  221.726166  3703.060059\n",
       "2020-12-28  223.925995  3735.360107\n",
       "2020-12-29  223.119720  3727.040039\n",
       "2020-12-30  220.661072  3732.040039\n",
       "2020-12-31  221.397675  3756.070068\n",
       "\n",
       "[1259 rows x 2 columns]"
      ]
     },
     "execution_count": 65,
     "metadata": {},
     "output_type": "execute_result"
    }
   ],
   "source": [
    "df = reader.get_data_yahoo(Input,start,end)['Adj Close']\n",
    "df"
   ]
  },
  {
   "cell_type": "markdown",
   "id": "cef420a7-09aa-4b19-87eb-81c7d9a53626",
   "metadata": {},
   "source": [
    "## Monthly Returns"
   ]
  },
  {
   "cell_type": "code",
   "execution_count": 66,
   "id": "0ce89ed7-6a5c-4def-80bf-c2bff2958ab5",
   "metadata": {},
   "outputs": [
    {
     "data": {
      "text/html": [
       "<div>\n",
       "<style scoped>\n",
       "    .dataframe tbody tr th:only-of-type {\n",
       "        vertical-align: middle;\n",
       "    }\n",
       "\n",
       "    .dataframe tbody tr th {\n",
       "        vertical-align: top;\n",
       "    }\n",
       "\n",
       "    .dataframe thead th {\n",
       "        text-align: right;\n",
       "    }\n",
       "</style>\n",
       "<table border=\"1\" class=\"dataframe\">\n",
       "  <thead>\n",
       "    <tr style=\"text-align: right;\">\n",
       "      <th>Symbols</th>\n",
       "      <th>MSFT</th>\n",
       "      <th>^GSPC</th>\n",
       "    </tr>\n",
       "    <tr>\n",
       "      <th>Date</th>\n",
       "      <th></th>\n",
       "      <th></th>\n",
       "    </tr>\n",
       "  </thead>\n",
       "  <tbody>\n",
       "    <tr>\n",
       "      <th>2016-02-29</th>\n",
       "      <td>-0.069789</td>\n",
       "      <td>-0.004128</td>\n",
       "    </tr>\n",
       "    <tr>\n",
       "      <th>2016-03-31</th>\n",
       "      <td>0.085495</td>\n",
       "      <td>0.065991</td>\n",
       "    </tr>\n",
       "    <tr>\n",
       "      <th>2016-04-30</th>\n",
       "      <td>-0.097049</td>\n",
       "      <td>0.002699</td>\n",
       "    </tr>\n",
       "    <tr>\n",
       "      <th>2016-05-31</th>\n",
       "      <td>0.070197</td>\n",
       "      <td>0.015325</td>\n",
       "    </tr>\n",
       "    <tr>\n",
       "      <th>2016-06-30</th>\n",
       "      <td>-0.034528</td>\n",
       "      <td>0.000911</td>\n",
       "    </tr>\n",
       "  </tbody>\n",
       "</table>\n",
       "</div>"
      ],
      "text/plain": [
       "Symbols         MSFT     ^GSPC\n",
       "Date                          \n",
       "2016-02-29 -0.069789 -0.004128\n",
       "2016-03-31  0.085495  0.065991\n",
       "2016-04-30 -0.097049  0.002699\n",
       "2016-05-31  0.070197  0.015325\n",
       "2016-06-30 -0.034528  0.000911"
      ]
     },
     "execution_count": 66,
     "metadata": {},
     "output_type": "execute_result"
    }
   ],
   "source": [
    "monthly_rets = df.resample('M').ffill().pct_change()\n",
    "monthly_rets = monthly_rets.dropna(axis=0)\n",
    "monthly_rets.head()"
   ]
  },
  {
   "cell_type": "markdown",
   "id": "c9afd518-adde-4929-bdb2-58c653b47a81",
   "metadata": {},
   "source": [
    "## Bulding the regression model"
   ]
  },
  {
   "cell_type": "code",
   "execution_count": 67,
   "id": "7a6cb4c7-dad5-4aba-9a0c-9912195378d1",
   "metadata": {},
   "outputs": [],
   "source": [
    "X = monthly_rets['^GSPC']\n",
    "y = monthly_rets['MSFT']\n",
    "\n",
    "# the intercept is not defined as default\n",
    "X_sm = sm.add_constant(X)"
   ]
  },
  {
   "cell_type": "code",
   "execution_count": 68,
   "id": "4171772a-b00e-49cc-a219-1c8d582de19f",
   "metadata": {},
   "outputs": [
    {
     "data": {
      "text/plain": [
       "((59,), (59,))"
      ]
     },
     "execution_count": 68,
     "metadata": {},
     "output_type": "execute_result"
    }
   ],
   "source": [
    "X.shape, y.shape"
   ]
  },
  {
   "cell_type": "code",
   "execution_count": 69,
   "id": "890b063b-8978-481e-9a2e-ddf47eec4d4d",
   "metadata": {},
   "outputs": [
    {
     "data": {
      "text/html": [
       "<table class=\"simpletable\">\n",
       "<caption>OLS Regression Results</caption>\n",
       "<tr>\n",
       "  <th>Dep. Variable:</th>          <td>MSFT</td>       <th>  R-squared:         </th> <td>   0.475</td>\n",
       "</tr>\n",
       "<tr>\n",
       "  <th>Model:</th>                   <td>OLS</td>       <th>  Adj. R-squared:    </th> <td>   0.466</td>\n",
       "</tr>\n",
       "<tr>\n",
       "  <th>Method:</th>             <td>Least Squares</td>  <th>  F-statistic:       </th> <td>   51.53</td>\n",
       "</tr>\n",
       "<tr>\n",
       "  <th>Date:</th>             <td>Fri, 04 Jun 2021</td> <th>  Prob (F-statistic):</th> <td>1.61e-09</td>\n",
       "</tr>\n",
       "<tr>\n",
       "  <th>Time:</th>                 <td>00:21:02</td>     <th>  Log-Likelihood:    </th> <td>  109.02</td>\n",
       "</tr>\n",
       "<tr>\n",
       "  <th>No. Observations:</th>      <td>    59</td>      <th>  AIC:               </th> <td>  -214.0</td>\n",
       "</tr>\n",
       "<tr>\n",
       "  <th>Df Residuals:</th>          <td>    57</td>      <th>  BIC:               </th> <td>  -209.9</td>\n",
       "</tr>\n",
       "<tr>\n",
       "  <th>Df Model:</th>              <td>     1</td>      <th>                     </th>     <td> </td>   \n",
       "</tr>\n",
       "<tr>\n",
       "  <th>Covariance Type:</th>      <td>nonrobust</td>    <th>                     </th>     <td> </td>   \n",
       "</tr>\n",
       "</table>\n",
       "<table class=\"simpletable\">\n",
       "<tr>\n",
       "    <td></td>       <th>coef</th>     <th>std err</th>      <th>t</th>      <th>P>|t|</th>  <th>[0.025</th>    <th>0.975]</th>  \n",
       "</tr>\n",
       "<tr>\n",
       "  <th>const</th> <td>    0.0167</td> <td>    0.005</td> <td>    3.175</td> <td> 0.002</td> <td>    0.006</td> <td>    0.027</td>\n",
       "</tr>\n",
       "<tr>\n",
       "  <th>^GSPC</th> <td>    0.8383</td> <td>    0.117</td> <td>    7.178</td> <td> 0.000</td> <td>    0.604</td> <td>    1.072</td>\n",
       "</tr>\n",
       "</table>\n",
       "<table class=\"simpletable\">\n",
       "<tr>\n",
       "  <th>Omnibus:</th>       <td> 2.111</td> <th>  Durbin-Watson:     </th> <td>   2.543</td>\n",
       "</tr>\n",
       "<tr>\n",
       "  <th>Prob(Omnibus):</th> <td> 0.348</td> <th>  Jarque-Bera (JB):  </th> <td>   1.301</td>\n",
       "</tr>\n",
       "<tr>\n",
       "  <th>Skew:</th>          <td>-0.275</td> <th>  Prob(JB):          </th> <td>   0.522</td>\n",
       "</tr>\n",
       "<tr>\n",
       "  <th>Kurtosis:</th>      <td> 3.476</td> <th>  Cond. No.          </th> <td>    23.1</td>\n",
       "</tr>\n",
       "</table><br/><br/>Warnings:<br/>[1] Standard Errors assume that the covariance matrix of the errors is correctly specified."
      ],
      "text/plain": [
       "<class 'statsmodels.iolib.summary.Summary'>\n",
       "\"\"\"\n",
       "                            OLS Regression Results                            \n",
       "==============================================================================\n",
       "Dep. Variable:                   MSFT   R-squared:                       0.475\n",
       "Model:                            OLS   Adj. R-squared:                  0.466\n",
       "Method:                 Least Squares   F-statistic:                     51.53\n",
       "Date:                Fri, 04 Jun 2021   Prob (F-statistic):           1.61e-09\n",
       "Time:                        00:21:02   Log-Likelihood:                 109.02\n",
       "No. Observations:                  59   AIC:                            -214.0\n",
       "Df Residuals:                      57   BIC:                            -209.9\n",
       "Df Model:                           1                                         \n",
       "Covariance Type:            nonrobust                                         \n",
       "==============================================================================\n",
       "                 coef    std err          t      P>|t|      [0.025      0.975]\n",
       "------------------------------------------------------------------------------\n",
       "const          0.0167      0.005      3.175      0.002       0.006       0.027\n",
       "^GSPC          0.8383      0.117      7.178      0.000       0.604       1.072\n",
       "==============================================================================\n",
       "Omnibus:                        2.111   Durbin-Watson:                   2.543\n",
       "Prob(Omnibus):                  0.348   Jarque-Bera (JB):                1.301\n",
       "Skew:                          -0.275   Prob(JB):                        0.522\n",
       "Kurtosis:                       3.476   Cond. No.                         23.1\n",
       "==============================================================================\n",
       "\n",
       "Warnings:\n",
       "[1] Standard Errors assume that the covariance matrix of the errors is correctly specified.\n",
       "\"\"\""
      ]
     },
     "execution_count": 69,
     "metadata": {},
     "output_type": "execute_result"
    }
   ],
   "source": [
    "model = sm.OLS(y, X_sm)\n",
    "results = model.fit()\n",
    "results.summary()"
   ]
  },
  {
   "cell_type": "markdown",
   "id": "066d31b2-c967-4d48-996b-71bd566b7f52",
   "metadata": {},
   "source": [
    "Alfa = coef X const = 0,0191\n",
    "\n",
    "Beta = coef X ^GSPC = 0,7896"
   ]
  },
  {
   "cell_type": "code",
   "execution_count": 70,
   "id": "40753c96-8382-49ca-a2ee-4d3b3d503a96",
   "metadata": {},
   "outputs": [
    {
     "data": {
      "image/png": "[encoded data removed]",
      "text/plain": [
       "<Figure size 1512x648 with 1 Axes>"
      ]
     },
     "metadata": {},
     "output_type": "display_data"
    }
   ],
   "source": [
    "fig, ax = plt.subplots(figsize=(21,9))\n",
    "sns.regplot(x='^GSPC', y='MSFT', data=monthly_rets, ci=95, ax=ax)  #ci is the Confidence Interval\n",
    "plt.show()"
   ]
  },
  {
   "cell_type": "markdown",
   "id": "9ad03d53-3a61-4413-840c-e81cb051f89f",
   "metadata": {},
   "source": [
    "## Taking the risk free rate"
   ]
  },
  {
   "cell_type": "code",
   "execution_count": 80,
   "id": "2f5d4de7-3798-42c6-a36c-1799f2b49db4",
   "metadata": {},
   "outputs": [
    {
     "data": {
      "text/plain": [
       "Date\n",
       "2016-02    0.02\n",
       "2016-03    0.02\n",
       "2016-04    0.01\n",
       "2016-05    0.01\n",
       "2016-06    0.02\n",
       "Freq: M, Name: RF, dtype: float64"
      ]
     },
     "execution_count": 80,
     "metadata": {},
     "output_type": "execute_result"
    }
   ],
   "source": [
    "rf = reader.DataReader('F-F_Research_Data_Factors', 'famafrench',start,end)[0].RF\n",
    "rf = rf[1:-1]\n",
    "rf.head(5)"
   ]
  },
  {
   "cell_type": "code",
   "execution_count": 81,
   "id": "58cc0d0b-d79e-4d45-a20f-b7c43f81149c",
   "metadata": {},
   "outputs": [
    {
     "data": {
      "text/plain": [
       "(Date\n",
       " 2020-08    0.01\n",
       " 2020-09    0.01\n",
       " 2020-10    0.01\n",
       " 2020-11    0.01\n",
       " 2020-12    0.01\n",
       " Freq: M, Name: RF, dtype: float64,\n",
       " (59,))"
      ]
     },
     "execution_count": 81,
     "metadata": {},
     "output_type": "execute_result"
    }
   ],
   "source": [
    "rf.tail(5), rf.shape"
   ]
  },
  {
   "cell_type": "code",
   "execution_count": 82,
   "id": "b31117a9-d6ab-4fe7-96eb-be59d3cf3dd7",
   "metadata": {},
   "outputs": [
    {
     "data": {
      "text/html": [
       "<div>\n",
       "<style scoped>\n",
       "    .dataframe tbody tr th:only-of-type {\n",
       "        vertical-align: middle;\n",
       "    }\n",
       "\n",
       "    .dataframe tbody tr th {\n",
       "        vertical-align: top;\n",
       "    }\n",
       "\n",
       "    .dataframe thead th {\n",
       "        text-align: right;\n",
       "    }\n",
       "</style>\n",
       "<table border=\"1\" class=\"dataframe\">\n",
       "  <thead>\n",
       "    <tr style=\"text-align: right;\">\n",
       "      <th>Symbols</th>\n",
       "      <th>MSFT</th>\n",
       "      <th>^GSPC</th>\n",
       "      <th>MSFT-rf</th>\n",
       "      <th>^GSPC-rf</th>\n",
       "    </tr>\n",
       "    <tr>\n",
       "      <th>Date</th>\n",
       "      <th></th>\n",
       "      <th></th>\n",
       "      <th></th>\n",
       "      <th></th>\n",
       "    </tr>\n",
       "  </thead>\n",
       "  <tbody>\n",
       "    <tr>\n",
       "      <th>2016-02-29</th>\n",
       "      <td>-0.069789</td>\n",
       "      <td>-0.004128</td>\n",
       "      <td>-0.089789</td>\n",
       "      <td>-0.024128</td>\n",
       "    </tr>\n",
       "    <tr>\n",
       "      <th>2016-03-31</th>\n",
       "      <td>0.085495</td>\n",
       "      <td>0.065991</td>\n",
       "      <td>0.065495</td>\n",
       "      <td>0.045991</td>\n",
       "    </tr>\n",
       "    <tr>\n",
       "      <th>2016-04-30</th>\n",
       "      <td>-0.097049</td>\n",
       "      <td>0.002699</td>\n",
       "      <td>-0.107049</td>\n",
       "      <td>-0.007301</td>\n",
       "    </tr>\n",
       "    <tr>\n",
       "      <th>2016-05-31</th>\n",
       "      <td>0.070197</td>\n",
       "      <td>0.015325</td>\n",
       "      <td>0.060197</td>\n",
       "      <td>0.005325</td>\n",
       "    </tr>\n",
       "    <tr>\n",
       "      <th>2016-06-30</th>\n",
       "      <td>-0.034528</td>\n",
       "      <td>0.000911</td>\n",
       "      <td>-0.054528</td>\n",
       "      <td>-0.019089</td>\n",
       "    </tr>\n",
       "  </tbody>\n",
       "</table>\n",
       "</div>"
      ],
      "text/plain": [
       "Symbols         MSFT     ^GSPC   MSFT-rf  ^GSPC-rf\n",
       "Date                                              \n",
       "2016-02-29 -0.069789 -0.004128 -0.089789 -0.024128\n",
       "2016-03-31  0.085495  0.065991  0.065495  0.045991\n",
       "2016-04-30 -0.097049  0.002699 -0.107049 -0.007301\n",
       "2016-05-31  0.070197  0.015325  0.060197  0.005325\n",
       "2016-06-30 -0.034528  0.000911 -0.054528 -0.019089"
      ]
     },
     "execution_count": 82,
     "metadata": {},
     "output_type": "execute_result"
    }
   ],
   "source": [
    "# Get the Excess Return\n",
    "\n",
    "monthly_rets['MSFT-rf'], monthly_rets['^GSPC-rf'] = monthly_rets['MSFT'] - rf.values, monthly_rets['^GSPC'] - rf.values\n",
    "monthly_rets.head()"
   ]
  },
  {
   "cell_type": "markdown",
   "id": "709c122b-8dc1-4392-8f21-2f2b95ad582a",
   "metadata": {},
   "source": [
    "## Bulding the regression model again"
   ]
  },
  {
   "cell_type": "code",
   "execution_count": 83,
   "id": "6a0b5bb0-736b-41ab-9503-e60094507248",
   "metadata": {},
   "outputs": [],
   "source": [
    "X = monthly_rets['^GSPC-rf']\n",
    "y = monthly_rets['MSFT-rf']"
   ]
  },
  {
   "cell_type": "code",
   "execution_count": 84,
   "id": "f0190e90-6129-43c9-9fc8-a5462fae0021",
   "metadata": {},
   "outputs": [],
   "source": [
    "X_sm = sm.add_constant(X)"
   ]
  },
  {
   "cell_type": "code",
   "execution_count": 85,
   "id": "17f93f6f-da5f-453c-b704-53ced48a6f19",
   "metadata": {},
   "outputs": [],
   "source": [
    "model = sm.OLS(y,X_sm)"
   ]
  },
  {
   "cell_type": "code",
   "execution_count": 86,
   "id": "4c6bd87a-0e62-4b37-896d-f837545523cc",
   "metadata": {},
   "outputs": [
    {
     "data": {
      "text/html": [
       "<table class=\"simpletable\">\n",
       "<caption>OLS Regression Results</caption>\n",
       "<tr>\n",
       "  <th>Dep. Variable:</th>         <td>MSFT-rf</td>     <th>  R-squared:         </th> <td>   0.819</td>\n",
       "</tr>\n",
       "<tr>\n",
       "  <th>Model:</th>                   <td>OLS</td>       <th>  Adj. R-squared:    </th> <td>   0.816</td>\n",
       "</tr>\n",
       "<tr>\n",
       "  <th>Method:</th>             <td>Least Squares</td>  <th>  F-statistic:       </th> <td>   257.7</td>\n",
       "</tr>\n",
       "<tr>\n",
       "  <th>Date:</th>             <td>Fri, 04 Jun 2021</td> <th>  Prob (F-statistic):</th> <td>8.24e-23</td>\n",
       "</tr>\n",
       "<tr>\n",
       "  <th>Time:</th>                 <td>00:22:09</td>     <th>  Log-Likelihood:    </th> <td>  110.12</td>\n",
       "</tr>\n",
       "<tr>\n",
       "  <th>No. Observations:</th>      <td>    59</td>      <th>  AIC:               </th> <td>  -216.2</td>\n",
       "</tr>\n",
       "<tr>\n",
       "  <th>Df Residuals:</th>          <td>    57</td>      <th>  BIC:               </th> <td>  -212.1</td>\n",
       "</tr>\n",
       "<tr>\n",
       "  <th>Df Model:</th>              <td>     1</td>      <th>                     </th>     <td> </td>   \n",
       "</tr>\n",
       "<tr>\n",
       "  <th>Covariance Type:</th>      <td>nonrobust</td>    <th>                     </th>     <td> </td>   \n",
       "</tr>\n",
       "</table>\n",
       "<table class=\"simpletable\">\n",
       "<tr>\n",
       "      <td></td>        <th>coef</th>     <th>std err</th>      <th>t</th>      <th>P>|t|</th>  <th>[0.025</th>    <th>0.975]</th>  \n",
       "</tr>\n",
       "<tr>\n",
       "  <th>const</th>    <td>    0.0059</td> <td>    0.007</td> <td>    0.889</td> <td> 0.378</td> <td>   -0.007</td> <td>    0.019</td>\n",
       "</tr>\n",
       "<tr>\n",
       "  <th>^GSPC-rf</th> <td>    0.8874</td> <td>    0.055</td> <td>   16.053</td> <td> 0.000</td> <td>    0.777</td> <td>    0.998</td>\n",
       "</tr>\n",
       "</table>\n",
       "<table class=\"simpletable\">\n",
       "<tr>\n",
       "  <th>Omnibus:</th>       <td> 0.914</td> <th>  Durbin-Watson:     </th> <td>   2.611</td>\n",
       "</tr>\n",
       "<tr>\n",
       "  <th>Prob(Omnibus):</th> <td> 0.633</td> <th>  Jarque-Bera (JB):  </th> <td>   0.323</td>\n",
       "</tr>\n",
       "<tr>\n",
       "  <th>Skew:</th>          <td>-0.050</td> <th>  Prob(JB):          </th> <td>   0.851</td>\n",
       "</tr>\n",
       "<tr>\n",
       "  <th>Kurtosis:</th>      <td> 3.349</td> <th>  Cond. No.          </th> <td>    11.2</td>\n",
       "</tr>\n",
       "</table><br/><br/>Warnings:<br/>[1] Standard Errors assume that the covariance matrix of the errors is correctly specified."
      ],
      "text/plain": [
       "<class 'statsmodels.iolib.summary.Summary'>\n",
       "\"\"\"\n",
       "                            OLS Regression Results                            \n",
       "==============================================================================\n",
       "Dep. Variable:                MSFT-rf   R-squared:                       0.819\n",
       "Model:                            OLS   Adj. R-squared:                  0.816\n",
       "Method:                 Least Squares   F-statistic:                     257.7\n",
       "Date:                Fri, 04 Jun 2021   Prob (F-statistic):           8.24e-23\n",
       "Time:                        00:22:09   Log-Likelihood:                 110.12\n",
       "No. Observations:                  59   AIC:                            -216.2\n",
       "Df Residuals:                      57   BIC:                            -212.1\n",
       "Df Model:                           1                                         \n",
       "Covariance Type:            nonrobust                                         \n",
       "==============================================================================\n",
       "                 coef    std err          t      P>|t|      [0.025      0.975]\n",
       "------------------------------------------------------------------------------\n",
       "const          0.0059      0.007      0.889      0.378      -0.007       0.019\n",
       "^GSPC-rf       0.8874      0.055     16.053      0.000       0.777       0.998\n",
       "==============================================================================\n",
       "Omnibus:                        0.914   Durbin-Watson:                   2.611\n",
       "Prob(Omnibus):                  0.633   Jarque-Bera (JB):                0.323\n",
       "Skew:                          -0.050   Prob(JB):                        0.851\n",
       "Kurtosis:                       3.349   Cond. No.                         11.2\n",
       "==============================================================================\n",
       "\n",
       "Warnings:\n",
       "[1] Standard Errors assume that the covariance matrix of the errors is correctly specified.\n",
       "\"\"\""
      ]
     },
     "execution_count": 86,
     "metadata": {},
     "output_type": "execute_result"
    }
   ],
   "source": [
    "results = model.fit()\n",
    "results.summary()"
   ]
  },
  {
   "cell_type": "code",
   "execution_count": 87,
   "id": "b26984ee-7439-48a8-837b-d86c23909816",
   "metadata": {},
   "outputs": [
    {
     "data": {
      "image/png": "[encoded data removed]",
      "text/plain": [
       "<Figure size 1512x648 with 1 Axes>"
      ]
     },
     "metadata": {},
     "output_type": "display_data"
    }
   ],
   "source": [
    "fig, ax = plt.subplots(figsize=(21,9))\n",
    "sns.regplot(x='^GSPC-rf', y='MSFT-rf', data=monthly_rets, ci=95, ax=ax)  #ci is the Confidence Interval\n",
    "plt.show()"
   ]
  }
 ],
 "metadata": {
  "kernelspec": {
   "display_name": "Python 3",
   "language": "python",
   "name": "python3"
  },
  "language_info": {
   "codemirror_mode": {
    "name": "ipython",
    "version": 3
   },
   "file_extension": ".py",
   "mimetype": "text/x-python",
   "name": "python",
   "nbconvert_exporter": "python",
   "pygments_lexer": "ipython3",
   "version": "3.7.3"
  }
 },
 "nbformat": 4,
 "nbformat_minor": 5
}
