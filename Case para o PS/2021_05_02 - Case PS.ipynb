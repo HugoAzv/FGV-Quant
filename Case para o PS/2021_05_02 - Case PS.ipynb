{
 "cells": [
  {
   "cell_type": "markdown",
   "id": "trying-olive",
   "metadata": {},
   "source": [
    "# Case - Análise da ação da Vale (VALE3.SA) no período de 2018 a 2020\n",
    "## Autor: Hugo Azevedo"
   ]
  },
  {
   "cell_type": "markdown",
   "id": "brief-answer",
   "metadata": {},
   "source": [
    "**Importando as bibliotecas**"
   ]
  },
  {
   "cell_type": "code",
   "execution_count": 1,
   "id": "choice-cursor",
   "metadata": {},
   "outputs": [],
   "source": [
    "import numpy as np\n",
    "import pandas as pd\n",
    "from pandas_datareader import data\n",
    "import matplotlib.pyplot as plt\n",
    "import seaborn as sns\n",
    "sns.set()"
   ]
  },
  {
   "cell_type": "markdown",
   "id": "outdoor-harris",
   "metadata": {},
   "source": [
    "**Pegando os dados da ação da Vale pelo yahoo finance, usando a biblioteca pandas_datareader.**\n",
    "\n",
    "**O Período em questão (2018 a 2020) já foi inserido na chamada da função**"
   ]
  },
  {
   "cell_type": "code",
   "execution_count": 2,
   "id": "crucial-gambling",
   "metadata": {},
   "outputs": [
    {
     "data": {
      "text/html": [
       "<div>\n",
       "<style scoped>\n",
       "    .dataframe tbody tr th:only-of-type {\n",
       "        vertical-align: middle;\n",
       "    }\n",
       "\n",
       "    .dataframe tbody tr th {\n",
       "        vertical-align: top;\n",
       "    }\n",
       "\n",
       "    .dataframe thead th {\n",
       "        text-align: right;\n",
       "    }\n",
       "</style>\n",
       "<table border=\"1\" class=\"dataframe\">\n",
       "  <thead>\n",
       "    <tr style=\"text-align: right;\">\n",
       "      <th></th>\n",
       "      <th>High</th>\n",
       "      <th>Low</th>\n",
       "      <th>Open</th>\n",
       "      <th>Close</th>\n",
       "      <th>Volume</th>\n",
       "      <th>Adj Close</th>\n",
       "    </tr>\n",
       "    <tr>\n",
       "      <th>Date</th>\n",
       "      <th></th>\n",
       "      <th></th>\n",
       "      <th></th>\n",
       "      <th></th>\n",
       "      <th></th>\n",
       "      <th></th>\n",
       "    </tr>\n",
       "  </thead>\n",
       "  <tbody>\n",
       "    <tr>\n",
       "      <th>2018-01-02</th>\n",
       "      <td>41.740002</td>\n",
       "      <td>40.439999</td>\n",
       "      <td>40.439999</td>\n",
       "      <td>41.720001</td>\n",
       "      <td>14156500.0</td>\n",
       "      <td>35.877056</td>\n",
       "    </tr>\n",
       "    <tr>\n",
       "      <th>2018-01-03</th>\n",
       "      <td>41.880001</td>\n",
       "      <td>41.299999</td>\n",
       "      <td>41.830002</td>\n",
       "      <td>41.470001</td>\n",
       "      <td>12744200.0</td>\n",
       "      <td>35.662075</td>\n",
       "    </tr>\n",
       "    <tr>\n",
       "      <th>2018-01-04</th>\n",
       "      <td>42.369999</td>\n",
       "      <td>41.520000</td>\n",
       "      <td>41.810001</td>\n",
       "      <td>41.639999</td>\n",
       "      <td>18433000.0</td>\n",
       "      <td>35.808262</td>\n",
       "    </tr>\n",
       "    <tr>\n",
       "      <th>2018-01-05</th>\n",
       "      <td>42.290001</td>\n",
       "      <td>41.310001</td>\n",
       "      <td>41.570000</td>\n",
       "      <td>42.290001</td>\n",
       "      <td>15251300.0</td>\n",
       "      <td>36.367233</td>\n",
       "    </tr>\n",
       "    <tr>\n",
       "      <th>2018-01-08</th>\n",
       "      <td>43.230000</td>\n",
       "      <td>42.400002</td>\n",
       "      <td>42.400002</td>\n",
       "      <td>43.230000</td>\n",
       "      <td>14542800.0</td>\n",
       "      <td>37.175583</td>\n",
       "    </tr>\n",
       "    <tr>\n",
       "      <th>...</th>\n",
       "      <td>...</td>\n",
       "      <td>...</td>\n",
       "      <td>...</td>\n",
       "      <td>...</td>\n",
       "      <td>...</td>\n",
       "      <td>...</td>\n",
       "    </tr>\n",
       "    <tr>\n",
       "      <th>2020-12-22</th>\n",
       "      <td>86.989998</td>\n",
       "      <td>85.430000</td>\n",
       "      <td>86.860001</td>\n",
       "      <td>86.940002</td>\n",
       "      <td>23157000.0</td>\n",
       "      <td>83.192207</td>\n",
       "    </tr>\n",
       "    <tr>\n",
       "      <th>2020-12-23</th>\n",
       "      <td>87.529999</td>\n",
       "      <td>86.400002</td>\n",
       "      <td>86.529999</td>\n",
       "      <td>87.360001</td>\n",
       "      <td>17710200.0</td>\n",
       "      <td>83.594101</td>\n",
       "    </tr>\n",
       "    <tr>\n",
       "      <th>2020-12-28</th>\n",
       "      <td>88.580002</td>\n",
       "      <td>87.080002</td>\n",
       "      <td>87.790001</td>\n",
       "      <td>87.309998</td>\n",
       "      <td>26001300.0</td>\n",
       "      <td>83.546249</td>\n",
       "    </tr>\n",
       "    <tr>\n",
       "      <th>2020-12-29</th>\n",
       "      <td>88.199997</td>\n",
       "      <td>86.510002</td>\n",
       "      <td>87.970001</td>\n",
       "      <td>87.070000</td>\n",
       "      <td>19727500.0</td>\n",
       "      <td>83.316597</td>\n",
       "    </tr>\n",
       "    <tr>\n",
       "      <th>2020-12-30</th>\n",
       "      <td>87.589996</td>\n",
       "      <td>86.650002</td>\n",
       "      <td>87.190002</td>\n",
       "      <td>87.449997</td>\n",
       "      <td>30102700.0</td>\n",
       "      <td>83.680214</td>\n",
       "    </tr>\n",
       "  </tbody>\n",
       "</table>\n",
       "<p>739 rows × 6 columns</p>\n",
       "</div>"
      ],
      "text/plain": [
       "                 High        Low       Open      Close      Volume  Adj Close\n",
       "Date                                                                         \n",
       "2018-01-02  41.740002  40.439999  40.439999  41.720001  14156500.0  35.877056\n",
       "2018-01-03  41.880001  41.299999  41.830002  41.470001  12744200.0  35.662075\n",
       "2018-01-04  42.369999  41.520000  41.810001  41.639999  18433000.0  35.808262\n",
       "2018-01-05  42.290001  41.310001  41.570000  42.290001  15251300.0  36.367233\n",
       "2018-01-08  43.230000  42.400002  42.400002  43.230000  14542800.0  37.175583\n",
       "...               ...        ...        ...        ...         ...        ...\n",
       "2020-12-22  86.989998  85.430000  86.860001  86.940002  23157000.0  83.192207\n",
       "2020-12-23  87.529999  86.400002  86.529999  87.360001  17710200.0  83.594101\n",
       "2020-12-28  88.580002  87.080002  87.790001  87.309998  26001300.0  83.546249\n",
       "2020-12-29  88.199997  86.510002  87.970001  87.070000  19727500.0  83.316597\n",
       "2020-12-30  87.589996  86.650002  87.190002  87.449997  30102700.0  83.680214\n",
       "\n",
       "[739 rows x 6 columns]"
      ]
     },
     "execution_count": 2,
     "metadata": {},
     "output_type": "execute_result"
    }
   ],
   "source": [
    "vale = data.DataReader('VALE3.SA', data_source='yahoo', \n",
    "                       start='1-1-2018', end='1-1-2021')\n",
    "vale"
   ]
  },
  {
   "cell_type": "markdown",
   "id": "diagnostic-sunrise",
   "metadata": {},
   "source": [
    "### - Preço de fechamento diário (em forma de gráfico em série de tempo)\n",
    "\n",
    "**Usa-se os valores de fechamento ajustado para evitar interferência de fatores que alterem o preço de fechamento,  \\\n",
    "como divisão de ações, emissão de dividendos ou direitos aos shareholders**"
   ]
  },
  {
   "cell_type": "code",
   "execution_count": 3,
   "id": "shared-unknown",
   "metadata": {},
   "outputs": [
    {
     "data": {
      "text/plain": [
       "<matplotlib.axes._subplots.AxesSubplot at 0x1bc58324f28>"
      ]
     },
     "execution_count": 3,
     "metadata": {},
     "output_type": "execute_result"
    },
    {
     "data": {
      "image/png": "[encoded data removed]",
      "text/plain": [
       "<Figure size 864x432 with 1 Axes>"
      ]
     },
     "metadata": {},
     "output_type": "display_data"
    }
   ],
   "source": [
    "vale['Adj Close'].plot(figsize=(12,6), legend=True, grid=True, title='Vale3.SA')\n",
    "vale['Close'].plot(legend=True)"
   ]
  },
  {
   "cell_type": "markdown",
   "id": "micro-parcel",
   "metadata": {},
   "source": [
    "### - Histograma dos retornos diários desse ativo\n",
    "\n",
    "**Faz-se primeiro a análise dos retornos diários,  \\\n",
    "usando a função já imbutida na biblioteca pandas pct_change()**"
   ]
  },
  {
   "cell_type": "code",
   "execution_count": 4,
   "id": "exotic-washington",
   "metadata": {
    "tags": []
   },
   "outputs": [
    {
     "data": {
      "text/plain": [
       "Date\n",
       "2018-01-03   -0.005992\n",
       "2018-01-04    0.004099\n",
       "2018-01-05    0.015610\n",
       "2018-01-08    0.022227\n",
       "2018-01-09   -0.003701\n",
       "                ...   \n",
       "2020-12-22    0.000921\n",
       "2020-12-23    0.004831\n",
       "2020-12-28   -0.000572\n",
       "2020-12-29   -0.002749\n",
       "2020-12-30    0.004364\n",
       "Name: Adj Close, Length: 738, dtype: float64"
      ]
     },
     "execution_count": 4,
     "metadata": {},
     "output_type": "execute_result"
    }
   ],
   "source": [
    "returns = vale['Adj Close'].pct_change().dropna() \n",
    "# Calcula o retorno diários do ativo\n",
    "# a função dropna é para retirar o valor \"NaN\" \n",
    "# presente na primeira linha da Series, \n",
    "# visto que não há retorno diários no primeiro dia de análise dos retornos\n",
    "returns"
   ]
  },
  {
   "cell_type": "markdown",
   "id": "exterior-switch",
   "metadata": {},
   "source": [
    "**Cálculo manual, de modo a validar a célula acima**"
   ]
  },
  {
   "cell_type": "code",
   "execution_count": 5,
   "id": "amazing-affiliation",
   "metadata": {},
   "outputs": [
    {
     "data": {
      "text/plain": [
       "Date\n",
       "2018-01-02   -0.005992\n",
       "2018-01-03    0.004099\n",
       "2018-01-04    0.015610\n",
       "2018-01-05    0.022227\n",
       "2018-01-08   -0.003701\n",
       "                ...   \n",
       "2020-12-21    0.000921\n",
       "2020-12-22    0.004831\n",
       "2020-12-23   -0.000572\n",
       "2020-12-28   -0.002749\n",
       "2020-12-29    0.004364\n",
       "Name: Adj Close, Length: 738, dtype: float64"
      ]
     },
     "execution_count": 5,
     "metadata": {},
     "output_type": "execute_result"
    }
   ],
   "source": [
    "prices = vale['Adj Close']\n",
    "returns_manual = prices.iloc[1:].values/prices.iloc[:-1] - 1\n",
    "returns_manual"
   ]
  },
  {
   "cell_type": "code",
   "execution_count": 6,
   "id": "preceding-meter",
   "metadata": {},
   "outputs": [
    {
     "data": {
      "text/plain": [
       "Date\n",
       "2018-01-03   -0.005992\n",
       "2018-01-04    0.004099\n",
       "2018-01-05    0.015610\n",
       "2018-01-08    0.022227\n",
       "2018-01-09   -0.003701\n",
       "                ...   \n",
       "2020-12-22    0.000921\n",
       "2020-12-23    0.004831\n",
       "2020-12-28   -0.000572\n",
       "2020-12-29   -0.002749\n",
       "2020-12-30    0.004364\n",
       "Name: Adj Close, Length: 738, dtype: float64"
      ]
     },
     "execution_count": 6,
     "metadata": {},
     "output_type": "execute_result"
    }
   ],
   "source": [
    "prices = vale['Adj Close']\n",
    "returns_manual = prices/prices.shift(1) - 1\n",
    "returns_manual = returns_manual[1:]\n",
    "returns_manual"
   ]
  },
  {
   "cell_type": "code",
   "execution_count": 7,
   "id": "revised-integral",
   "metadata": {},
   "outputs": [
    {
     "data": {
      "text/plain": [
       "(738, 738, 739)"
      ]
     },
     "execution_count": 7,
     "metadata": {},
     "output_type": "execute_result"
    }
   ],
   "source": [
    "aux = (returns == returns_manual) # pd.Series com valores \"True\" ou \"False\"\n",
    "aux_l = aux.values # Vetor com valores \"True\" ou \"False\"\n",
    "contador_de_verdadeiros = 0\n",
    "for i in range(len(aux_l)):\n",
    "    if aux_l[i] == 'False': # Caso tenha algum valor falso, retornar o print abaixo\n",
    "        print(\"As duas formas de calcular não são compatíveis\")\n",
    "        break\n",
    "    else:\n",
    "        contador_de_verdadeiros += 1 # se não tem nenhuma comparação falsa, contar +1 na variável indicada\n",
    "        \n",
    "contador_de_verdadeiros, returns.shape[0], vale['Adj Close'].shape[0]"
   ]
  },
  {
   "cell_type": "markdown",
   "id": "killing-stick",
   "metadata": {},
   "source": [
    "**Plota-se, então, o histograma**"
   ]
  },
  {
   "cell_type": "code",
   "execution_count": 8,
   "id": "simplified-mother",
   "metadata": {},
   "outputs": [
    {
     "data": {
      "text/plain": [
       "<matplotlib.legend.Legend at 0x1bc5b7727b8>"
      ]
     },
     "execution_count": 8,
     "metadata": {},
     "output_type": "execute_result"
    },
    {
     "data": {
      "image/png": "[encoded data removed]",
      "text/plain": [
       "<Figure size 864x432 with 1 Axes>"
      ]
     },
     "metadata": {},
     "output_type": "display_data"
    }
   ],
   "source": [
    "returns.hist(bins=100, figsize=(12,6), legend=True)\n",
    "mean = returns.mean()\n",
    "std = returns.std()\n",
    "\n",
    "plt.axvline(x=mean, color='r', linestyle='--', label = 'Mean')\n",
    "plt.axvline(x=std, color='k', linestyle='--', label = '+1std')\n",
    "plt.axvline(x=-std, color='k', linestyle='--', label = '-1std')\n",
    "plt.legend()"
   ]
  },
  {
   "cell_type": "code",
   "execution_count": 9,
   "id": "collective-toyota",
   "metadata": {},
   "outputs": [
    {
     "data": {
      "text/plain": [
       "<matplotlib.lines.Line2D at 0x1bc5b964828>"
      ]
     },
     "execution_count": 9,
     "metadata": {},
     "output_type": "execute_result"
    },
    {
     "data": {
      "image/png": "[encoded data removed]",
      "text/plain": [
       "<Figure size 864x432 with 1 Axes>"
      ]
     },
     "metadata": {},
     "output_type": "display_data"
    }
   ],
   "source": [
    "fig, ax1 = plt.subplots(1, 1, figsize=(12, 6))\n",
    "sns.distplot(returns, bins=100, ax=ax1)\n",
    "plt.axvline(x=mean, color='r', linestyle='--', label = 'Mean')\n",
    "plt.axvline(x=std, color='k', linestyle='--', label = '+1std')\n",
    "plt.axvline(x=-std, color='k', linestyle='--', label = '-1std')"
   ]
  },
  {
   "cell_type": "markdown",
   "id": "fifty-nancy",
   "metadata": {},
   "source": [
    "### - Calcular a volatilidade (desvio padrão) dos retornos nesse período."
   ]
  },
  {
   "cell_type": "markdown",
   "id": "previous-allowance",
   "metadata": {},
   "source": [
    "**Cálculo de forma automatica, via uso de biblioteca do python**"
   ]
  },
  {
   "cell_type": "code",
   "execution_count": 10,
   "id": "serial-shock",
   "metadata": {},
   "outputs": [
    {
     "data": {
      "text/plain": [
       "0.02770783971888649"
      ]
     },
     "execution_count": 10,
     "metadata": {},
     "output_type": "execute_result"
    }
   ],
   "source": [
    "returns.std() # calcula o desvio padrão da amostra, denominador = n-1"
   ]
  },
  {
   "cell_type": "markdown",
   "id": "laughing-endorsement",
   "metadata": {},
   "source": [
    "**Cálculo manual, de modo a validar a célula acima**"
   ]
  },
  {
   "cell_type": "code",
   "execution_count": 11,
   "id": "metropolitan-parallel",
   "metadata": {},
   "outputs": [
    {
     "data": {
      "text/plain": [
       "0.02770783971888649"
      ]
     },
     "execution_count": 11,
     "metadata": {},
     "output_type": "execute_result"
    }
   ],
   "source": [
    "deviations = returns - returns.mean()\n",
    "squared_deviations = deviations**2\n",
    "number_of_obs = returns.shape[0]\n",
    "variance = squared_deviations.sum()/(number_of_obs - 1)\n",
    "volatility = np.sqrt(variance) # calcula o desvio padrão da amostra, denominador = n-1\n",
    "volatility"
   ]
  },
  {
   "cell_type": "code",
   "execution_count": 12,
   "id": "designed-iraqi",
   "metadata": {},
   "outputs": [
    {
     "data": {
      "text/plain": [
       "True"
      ]
     },
     "execution_count": 12,
     "metadata": {},
     "output_type": "execute_result"
    }
   ],
   "source": [
    "volatility == returns.std()"
   ]
  },
  {
   "cell_type": "markdown",
   "id": "aware-collar",
   "metadata": {},
   "source": [
    "**Volatilidade Anualizada**"
   ]
  },
  {
   "cell_type": "code",
   "execution_count": 13,
   "id": "international-shoulder",
   "metadata": {},
   "outputs": [
    {
     "data": {
      "text/plain": [
       "0.4398483195780688"
      ]
     },
     "execution_count": 13,
     "metadata": {},
     "output_type": "execute_result"
    }
   ],
   "source": [
    "returns.std()*np.sqrt(252) # volatilidade anual"
   ]
  }
 ],
 "metadata": {
  "kernelspec": {
   "display_name": "Python 3",
   "language": "python",
   "name": "python3"
  },
  "language_info": {
   "codemirror_mode": {
    "name": "ipython",
    "version": 3
   },
   "file_extension": ".py",
   "mimetype": "text/x-python",
   "name": "python",
   "nbconvert_exporter": "python",
   "pygments_lexer": "ipython3",
   "version": "3.7.3"
  }
 },
 "nbformat": 4,
 "nbformat_minor": 5
}
