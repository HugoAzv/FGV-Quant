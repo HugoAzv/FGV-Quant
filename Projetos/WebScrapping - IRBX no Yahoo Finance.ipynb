{
 "cells": [
  {
   "cell_type": "markdown",
   "id": "944f7c00-e449-4849-9fd8-bda4890ba2b1",
   "metadata": {},
   "source": [
    "# Exemplo de WebScrapping no site do Yahoo Finance para pegar os Tickers do Índice IRBX 50"
   ]
  },
  {
   "cell_type": "code",
   "execution_count": 1,
   "id": "a0cb0e7d-b37a-4dc8-9c27-f3be86f6e112",
   "metadata": {},
   "outputs": [],
   "source": [
    "# Biliotecas\n",
    "\n",
    "import requests\n",
    "from bs4 import BeautifulSoup"
   ]
  },
  {
   "cell_type": "code",
   "execution_count": 2,
   "id": "cabd6ff7-6675-46a7-b006-ebca2c8f6312",
   "metadata": {},
   "outputs": [],
   "source": [
    "url = 'https://finance.yahoo.com/quote/%5EIBX50/components?p=%5EIBX50'\n",
    "Page = requests.get(url)"
   ]
  },
  {
   "cell_type": "code",
   "execution_count": 3,
   "id": "f318b10a-d2e0-4664-960c-a96e4bf06eb3",
   "metadata": {},
   "outputs": [],
   "source": [
    "soup = BeautifulSoup(Page.text, 'html.parser')"
   ]
  },
  {
   "cell_type": "code",
   "execution_count": 4,
   "id": "fc7191e9-ceba-46ad-97b0-657b0006cd88",
   "metadata": {},
   "outputs": [],
   "source": [
    "rows = soup.find_all('tr', attrs={'class':'BdT Bdc($seperatorColor) Ta(end) Fz(s)'})"
   ]
  },
  {
   "cell_type": "code",
   "execution_count": 5,
   "id": "d881df40-e2c7-4f75-97c7-47c88cb4e0d7",
   "metadata": {
    "tags": []
   },
   "outputs": [],
   "source": [
    "tickers = []\n",
    "nome = []\n",
    "fechamento = []\n",
    "for i in rows:\n",
    "    row = i.find_all('td')\n",
    "    tickers.append(row[0].text.strip())\n",
    "    nome.append(row[1].text.strip())\n",
    "    fechamento.append(row[2].text.strip())"
   ]
  },
  {
   "cell_type": "code",
   "execution_count": 6,
   "id": "4f33179b-55f5-4d95-a318-c9121693002d",
   "metadata": {},
   "outputs": [
    {
     "name": "stdout",
     "output_type": "stream",
     "text": [
      "Companhia:  Banco Bradesco S.A.\n",
      "Ticker:  BBDC4.SA\n",
      "Preço de Fechamento:  28.09\n",
      "\n",
      "Companhia:  Equatorial Energia S.A.\n",
      "Ticker:  EQTL3.SA\n",
      "Preço de Fechamento:  24.89\n",
      "\n",
      "Companhia:  BB Seguridade Participações S.A.\n",
      "Ticker:  BBSE3.SA\n",
      "Preço de Fechamento:  24.19\n",
      "\n",
      "Companhia:  Raia Drogasil S.A.\n",
      "Ticker:  RADL3.SA\n",
      "Preço de Fechamento:  28.03\n",
      "\n",
      "Companhia:  Companhia de Saneamento Básico do Estado de São Paulo - SABESP\n",
      "Ticker:  SBSP3.SA\n",
      "Preço de Fechamento:  39.02\n",
      "\n",
      "Companhia:  Lojas Renner S.A.\n",
      "Ticker:  LREN3.SA\n",
      "Preço de Fechamento:  48.10\n",
      "\n",
      "Companhia:  Companhia Energética de Minas Gerais\n",
      "Ticker:  CMIG4.SA\n",
      "Preço de Fechamento:  13.80\n",
      "\n",
      "Companhia:  Lojas Americanas S.A.\n",
      "Ticker:  LAME4.SA\n",
      "Preço de Fechamento:  21.15\n",
      "\n",
      "Companhia:  IRB-Brasil Resseguros S.A.\n",
      "Ticker:  IRBR3.SA\n",
      "Preço de Fechamento:  6.10\n",
      "\n",
      "Companhia:  Notre Dame Intermédica Participações S.A.\n",
      "Ticker:  GNDI3.SA\n",
      "Preço de Fechamento:  86.10\n",
      "\n",
      "Companhia:  Petro Rio S.A.\n",
      "Ticker:  PRIO3.SA\n",
      "Preço de Fechamento:  20.50\n",
      "\n",
      "Companhia:  Suzano S.A.\n",
      "Ticker:  SUZB3.SA\n",
      "Preço de Fechamento:  58.60\n",
      "\n",
      "Companhia:  Petróleo Brasileiro S.A. - Petrobras\n",
      "Ticker:  PETR3.SA\n",
      "Preço de Fechamento:  28.93\n",
      "\n",
      "Companhia:  Ultrapar Participações S.A.\n",
      "Ticker:  UGPA3.SA\n",
      "Preço de Fechamento:  21.14\n",
      "\n",
      "Companhia:  B3 S.A. - Brasil, Bolsa, Balcão\n",
      "Ticker:  B3SA3.SA\n",
      "Preço de Fechamento:  17.24\n",
      "\n",
      "Companhia:  CCR S.A.\n",
      "Ticker:  CCRO3.SA\n",
      "Preço de Fechamento:  13.69\n",
      "\n",
      "Companhia:  Banco do Brasil S.A.\n",
      "Ticker:  BBAS3.SA\n",
      "Preço de Fechamento:  35.75\n",
      "\n",
      "Companhia:  Petróleo Brasileiro S.A. - Petrobras\n",
      "Ticker:  PETR4.SA\n",
      "Preço de Fechamento:  28.50\n",
      "\n",
      "Companhia:  Magazine Luiza S.A.\n",
      "Ticker:  MGLU3.SA\n",
      "Preço de Fechamento:  20.85\n",
      "\n",
      "Companhia:  Rumo S.A.\n",
      "Ticker:  RAIL3.SA\n",
      "Preço de Fechamento:  21.29\n",
      "\n",
      "Companhia:  Azul S.A.\n",
      "Ticker:  AZUL4.SA\n",
      "Preço de Fechamento:  44.71\n",
      "\n",
      "Companhia:  Itaúsa - Investimentos Itaú SA\n",
      "Ticker:  ITSA4.SA\n",
      "Preço de Fechamento:  11.90\n",
      "\n",
      "Companhia:  WEG S.A.\n",
      "Ticker:  WEGE3.SA\n",
      "Preço de Fechamento:  34.22\n",
      "\n",
      "Companhia:  JBS S.A.\n",
      "Ticker:  JBSS3.SA\n",
      "Preço de Fechamento:  29.66\n",
      "\n",
      "Companhia:  Usinas Siderúrgicas de Minas Gerais S.A.\n",
      "Ticker:  USIM5.SA\n",
      "Preço de Fechamento:  19.05\n",
      "\n",
      "Companhia:  ULA11.SA\n",
      "Ticker:  ULA11.SA\n",
      "Preço de Fechamento:  \n",
      "\n",
      "Companhia:  Cogna Educação S.A.\n",
      "Ticker:  COGN3.SA\n",
      "Preço de Fechamento:  4.6300\n",
      "\n",
      "Companhia:  BR Malls Participações S.A.\n",
      "Ticker:  BRML3.SA\n",
      "Preço de Fechamento:  11.75\n",
      "\n",
      "Companhia:  Multiplan Empreendimentos Imobiliários S.A.\n",
      "Ticker:  MULT3.SA\n",
      "Preço de Fechamento:  27.51\n",
      "\n",
      "Companhia:  CVC Brasil Operadora e Agência de Viagens S.A.\n",
      "Ticker:  CVCB3.SA\n",
      "Preço de Fechamento:  27.11\n",
      "\n"
     ]
    }
   ],
   "source": [
    "for i in range(len(tickers)):\n",
    "    print(\"Companhia: \", nome[i])\n",
    "    print(\"Ticker: \", tickers[i])\n",
    "    print(\"Preço de Fechamento: \", fechamento[i])\n",
    "    print()"
   ]
  }
 ],
 "metadata": {
  "kernelspec": {
   "display_name": "Python 3",
   "language": "python",
   "name": "python3"
  },
  "language_info": {
   "codemirror_mode": {
    "name": "ipython",
    "version": 3
   },
   "file_extension": ".py",
   "mimetype": "text/x-python",
   "name": "python",
   "nbconvert_exporter": "python",
   "pygments_lexer": "ipython3",
   "version": "3.7.3"
  }
 },
 "nbformat": 4,
 "nbformat_minor": 5
}
